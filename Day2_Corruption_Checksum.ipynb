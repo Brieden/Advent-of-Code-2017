{
 "cells": [
  {
   "cell_type": "markdown",
   "metadata": {},
   "source": [
    "# --- Day 2: Corruption Checksum ---\n",
    "\n",
    "As you walk through the door, a glowing humanoid shape yells in your direction. \"You there! Your state appears to be idle. Come help us repair the corruption in this spreadsheet - if we take another millisecond, we'll have to display an hourglass cursor!\"\n",
    "\n",
    "The spreadsheet consists of rows of apparently-random numbers. To make sure the recovery process is on the right track, they need you to calculate the spreadsheet's checksum. For each row, determine the difference between the largest value and the smallest value; the checksum is the sum of all of these differences.\n",
    "\n",
    "For example, given the following spreadsheet:\n",
    "\n",
    "5 1 9 5\n",
    "7 5 3\n",
    "2 4 6 8\n",
    "The first row's largest and smallest values are 9 and 1, and their difference is 8.\n",
    "The second row's largest and smallest values are 7 and 3, and their difference is 4.\n",
    "The third row's difference is 6.\n",
    "In this example, the spreadsheet's checksum would be 8 + 4 + 6 = 18.\n",
    "\n",
    "What is the checksum for the spreadsheet in your puzzle input?\n",
    "\n",
    "Your puzzle answer was 41919.\n",
    "\n",
    "The first half of this puzzle is complete! It provides one gold star: *"
   ]
  },
  {
   "cell_type": "code",
   "execution_count": 1,
   "metadata": {},
   "outputs": [
    {
     "name": "stdout",
     "output_type": "stream",
     "text": [
      "18  is the checksum for the spreadsheet:\n",
      "[5, 1, 9, 5]\n",
      "[7, 5, 3]\n",
      "[2, 4, 6, 8]\n",
      "41919  is the checksum for the spreadsheet:\n",
      "[798, 1976, 1866, 1862, 559, 1797, 1129, 747, 85, 1108, 104, 2000, 248, 131, 87, 95]\n",
      "[201, 419, 336, 65, 208, 57, 74, 433, 68, 360, 390, 412, 355, 209, 330, 135]\n",
      "[967, 84, 492, 1425, 1502, 1324, 1268, 1113, 1259, 81, 310, 1360, 773, 69, 68, 290]\n",
      "[169, 264, 107, 298, 38, 149, 56, 126, 276, 45, 305, 403, 89, 179, 394, 172]\n",
      "[3069, 387, 2914, 2748, 1294, 1143, 3099, 152, 2867, 3082, 113, 145, 2827, 2545, 134, 469]\n",
      "[3885, 1098, 2638, 5806, 4655, 4787, 186, 4024, 2286, 5585, 5590, 215, 5336, 2738, 218, 266]\n",
      "[661, 789, 393, 159, 172, 355, 820, 891, 196, 831, 345, 784, 65, 971, 396, 234]\n",
      "[4095, 191, 4333, 161, 3184, 193, 4830, 4153, 2070, 3759, 1207, 3222, 185, 176, 2914, 4152]\n",
      "[131, 298, 279, 304, 118, 135, 300, 74, 269, 96, 366, 341, 139, 159, 17, 149]\n",
      "[1155, 5131, 373, 136, 103, 5168, 3424, 5126, 122, 5046, 4315, 126, 236, 4668, 4595, 4959]\n",
      "[664, 635, 588, 673, 354, 656, 70, 86, 211, 139, 95, 40, 84, 413, 618, 31]\n",
      "[2163, 127, 957, 2500, 2370, 2344, 2224, 1432, 125, 1984, 2392, 379, 2292, 98, 456, 154]\n",
      "[271, 4026, 2960, 6444, 2896, 228, 819, 676, 6612, 6987, 265, 2231, 2565, 6603, 207, 6236]\n",
      "[91, 683, 1736, 1998, 1960, 1727, 84, 1992, 1072, 1588, 1768, 74, 58, 1956, 1627, 893]\n",
      "[3591, 1843, 3448, 1775, 3564, 2632, 1002, 3065, 77, 3579, 78, 99, 1668, 98, 2963, 3553]\n",
      "[2155, 225, 2856, 3061, 105, 204, 1269, 171, 2505, 2852, 977, 1377, 181, 1856, 2952, 2262]\n"
     ]
    }
   ],
   "source": [
    "spreadsheets = [\"Day2_a)_test_spreadsheet.dat\", \"Day2_a)_spreadsheet.dat\"]\n",
    "for file in spreadsheets:\n",
    "    f = open(file)\n",
    "    spreadsheet = f.readlines()\n",
    "    spreadsheet = [[int(value) for value in row.split()]  for row in spreadsheet]\n",
    "    checksum = sum([max(row) - min(row)for row in spreadsheet])\n",
    "\n",
    "    print(checksum, \" is the checksum for the spreadsheet:\")\n",
    "    for row in spreadsheet: \n",
    "        print(row)"
   ]
  },
  {
   "cell_type": "markdown",
   "metadata": {},
   "source": [
    "# --- Part Two ---\n",
    "\n",
    "\"Great work; looks like we're on the right track after all. Here's a star for your effort.\" However, the program seems a little worried. Can programs be worried?\n",
    "\n",
    "\"Based on what we're seeing, it looks like all the User wanted is some information about the evenly divisible values in the spreadsheet. Unfortunately, none of us are equipped for that kind of calculation - most of us specialize in bitwise operations.\"\n",
    "\n",
    "It sounds like the goal is to find the only two numbers in each row where one evenly divides the other - that is, where the result of the division operation is a whole number. They would like you to find those numbers on each line, divide them, and add up each line's result.\n",
    "\n",
    "For example, given the following spreadsheet:\n",
    "\n",
    "5 9 2 8\n",
    "9 4 7 3\n",
    "3 8 6 5\n",
    "In the first row, the only two numbers that evenly divide are 8 and 2; the result of this division is 4.\n",
    "In the second row, the two numbers are 9 and 3; the result is 3.\n",
    "In the third row, the result is 2.\n",
    "In this example, the sum of the results would be 4 + 3 + 2 = 9.\n",
    "\n",
    "What is the sum of each row's result in your puzzle input?\n",
    "\n",
    "Your puzzle answer was 303.\n",
    "\n",
    "Both parts of this puzzle are complete! They provide two gold stars: **"
   ]
  },
  {
   "cell_type": "code",
   "execution_count": 2,
   "metadata": {},
   "outputs": [
    {
     "name": "stdout",
     "output_type": "stream",
     "text": [
      "9 is the checksum for the spreadsheet:\n",
      "[5, 9, 2, 8]\n",
      "[9, 4, 7, 3]\n",
      "[3, 8, 6, 5]\n",
      "303 is the checksum for the spreadsheet:\n",
      "[798, 1976, 1866, 1862, 559, 1797, 1129, 747, 85, 1108, 104, 2000, 248, 131, 87, 95]\n",
      "[201, 419, 336, 65, 208, 57, 74, 433, 68, 360, 390, 412, 355, 209, 330, 135]\n",
      "[967, 84, 492, 1425, 1502, 1324, 1268, 1113, 1259, 81, 310, 1360, 773, 69, 68, 290]\n",
      "[169, 264, 107, 298, 38, 149, 56, 126, 276, 45, 305, 403, 89, 179, 394, 172]\n",
      "[3069, 387, 2914, 2748, 1294, 1143, 3099, 152, 2867, 3082, 113, 145, 2827, 2545, 134, 469]\n",
      "[3885, 1098, 2638, 5806, 4655, 4787, 186, 4024, 2286, 5585, 5590, 215, 5336, 2738, 218, 266]\n",
      "[661, 789, 393, 159, 172, 355, 820, 891, 196, 831, 345, 784, 65, 971, 396, 234]\n",
      "[4095, 191, 4333, 161, 3184, 193, 4830, 4153, 2070, 3759, 1207, 3222, 185, 176, 2914, 4152]\n",
      "[131, 298, 279, 304, 118, 135, 300, 74, 269, 96, 366, 341, 139, 159, 17, 149]\n",
      "[1155, 5131, 373, 136, 103, 5168, 3424, 5126, 122, 5046, 4315, 126, 236, 4668, 4595, 4959]\n",
      "[664, 635, 588, 673, 354, 656, 70, 86, 211, 139, 95, 40, 84, 413, 618, 31]\n",
      "[2163, 127, 957, 2500, 2370, 2344, 2224, 1432, 125, 1984, 2392, 379, 2292, 98, 456, 154]\n",
      "[271, 4026, 2960, 6444, 2896, 228, 819, 676, 6612, 6987, 265, 2231, 2565, 6603, 207, 6236]\n",
      "[91, 683, 1736, 1998, 1960, 1727, 84, 1992, 1072, 1588, 1768, 74, 58, 1956, 1627, 893]\n",
      "[3591, 1843, 3448, 1775, 3564, 2632, 1002, 3065, 77, 3579, 78, 99, 1668, 98, 2963, 3553]\n",
      "[2155, 225, 2856, 3061, 105, 204, 1269, 171, 2505, 2852, 977, 1377, 181, 1856, 2952, 2262]\n"
     ]
    }
   ],
   "source": [
    "spreadsheets = [\"Day2_b)_test_spreadsheet.dat\", \"Day2_b)_spreadsheet.dat\"]\n",
    "for file in spreadsheets:\n",
    "    f = open(file)\n",
    "    spreadsheet = f.readlines()\n",
    "    spreadsheet = [[int(value) for value in row.split()]  for row in spreadsheet]\n",
    "\n",
    "    checksum = 0\n",
    "    for row in spreadsheet:\n",
    "        for value_1 in row:\n",
    "            for value_2 in row:\n",
    "                if value_1%value_2==0 and value_1/value_2>1:\n",
    "                    checksum += value_1/value_2\n",
    "\n",
    "    print(\"%i is the checksum for the spreadsheet:\" %checksum) \n",
    "    for row in spreadsheet: \n",
    "        print(row)"
   ]
  },
  {
   "cell_type": "code",
   "execution_count": null,
   "metadata": {
    "collapsed": true
   },
   "outputs": [],
   "source": []
  }
 ],
 "metadata": {
  "kernelspec": {
   "display_name": "Python 3",
   "language": "python",
   "name": "python3"
  },
  "language_info": {
   "codemirror_mode": {
    "name": "ipython",
    "version": 3
   },
   "file_extension": ".py",
   "mimetype": "text/x-python",
   "name": "python",
   "nbconvert_exporter": "python",
   "pygments_lexer": "ipython3",
   "version": "3.6.3"
  }
 },
 "nbformat": 4,
 "nbformat_minor": 2
}
